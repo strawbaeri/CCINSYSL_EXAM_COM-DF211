{
  "cells": [
    {
      "cell_type": "markdown",
      "metadata": {
        "id": "view-in-github",
        "colab_type": "text"
      },
      "source": [
        "<a href=\"https://colab.research.google.com/github/strawbaeri/CCINSYSL_EXAM_COM-DF211/blob/main/exam_1b.ipynb\" target=\"_parent\"><img src=\"https://colab.research.google.com/assets/colab-badge.svg\" alt=\"Open In Colab\"/></a>"
      ]
    },
    {
      "cell_type": "markdown",
      "metadata": {
        "id": "aIobhe6tBTRX"
      },
      "source": [
        "# Midterm Exam 💙 💛"
      ]
    },
    {
      "cell_type": "markdown",
      "metadata": {
        "id": "XyxAF-bgBTRj"
      },
      "source": [
        "Instructions ❗️❗️\n",
        "\n",
        "❌ Do not remove or modify the notebook sections, subsections, exam questions or any text in this python notebook\n",
        "\n",
        "✔️ Put your answer in the designated cells below each question"
      ]
    },
    {
      "cell_type": "markdown",
      "metadata": {
        "id": "B9PNmA1LBTRk"
      },
      "source": [
        "## Linear Regression"
      ]
    },
    {
      "cell_type": "code",
      "execution_count": 1091,
      "metadata": {
        "id": "xrvylNEbBTRk"
      },
      "outputs": [],
      "source": [
        "import numpy as np\n",
        "import pandas as pd\n",
        "import matplotlib.pyplot as plt\n",
        "import seaborn as sns\n",
        "from tqdm import tqdm\n",
        "import random\n",
        "\n",
        "from sklearn.metrics import r2_score\n",
        "from sklearn.linear_model import LinearRegression\n",
        "from sklearn.model_selection import train_test_split\n",
        "from sklearn.datasets import load_diabetes\n",
        "from sklearn.preprocessing import MinMaxScaler\n",
        "from sklearn.metrics import mean_squared_error, r2_score"
      ]
    },
    {
      "cell_type": "code",
      "execution_count": 1092,
      "metadata": {
        "id": "JNOZ-cYxBTRl"
      },
      "outputs": [],
      "source": [
        "df = load_diabetes(as_frame=True, scaled=False)\n",
        "df = df['frame']"
      ]
    },
    {
      "cell_type": "code",
      "execution_count": 1093,
      "metadata": {
        "id": "P_cLrNp1BTRm",
        "outputId": "d9978908-a3e2-4cf2-d65b-fa3bbd34cb84",
        "colab": {
          "base_uri": "https://localhost:8080/",
          "height": 206
        }
      },
      "outputs": [
        {
          "output_type": "execute_result",
          "data": {
            "text/plain": [
              "    age  sex   bmi     bp     s1     s2    s3   s4      s5    s6  target\n",
              "0  59.0  2.0  32.1  101.0  157.0   93.2  38.0  4.0  4.8598  87.0   151.0\n",
              "1  48.0  1.0  21.6   87.0  183.0  103.2  70.0  3.0  3.8918  69.0    75.0\n",
              "2  72.0  2.0  30.5   93.0  156.0   93.6  41.0  4.0  4.6728  85.0   141.0\n",
              "3  24.0  1.0  25.3   84.0  198.0  131.4  40.0  5.0  4.8903  89.0   206.0\n",
              "4  50.0  1.0  23.0  101.0  192.0  125.4  52.0  4.0  4.2905  80.0   135.0"
            ],
            "text/html": [
              "\n",
              "  <div id=\"df-49b7d32c-2600-4d0a-91fc-b2a634272203\" class=\"colab-df-container\">\n",
              "    <div>\n",
              "<style scoped>\n",
              "    .dataframe tbody tr th:only-of-type {\n",
              "        vertical-align: middle;\n",
              "    }\n",
              "\n",
              "    .dataframe tbody tr th {\n",
              "        vertical-align: top;\n",
              "    }\n",
              "\n",
              "    .dataframe thead th {\n",
              "        text-align: right;\n",
              "    }\n",
              "</style>\n",
              "<table border=\"1\" class=\"dataframe\">\n",
              "  <thead>\n",
              "    <tr style=\"text-align: right;\">\n",
              "      <th></th>\n",
              "      <th>age</th>\n",
              "      <th>sex</th>\n",
              "      <th>bmi</th>\n",
              "      <th>bp</th>\n",
              "      <th>s1</th>\n",
              "      <th>s2</th>\n",
              "      <th>s3</th>\n",
              "      <th>s4</th>\n",
              "      <th>s5</th>\n",
              "      <th>s6</th>\n",
              "      <th>target</th>\n",
              "    </tr>\n",
              "  </thead>\n",
              "  <tbody>\n",
              "    <tr>\n",
              "      <th>0</th>\n",
              "      <td>59.0</td>\n",
              "      <td>2.0</td>\n",
              "      <td>32.1</td>\n",
              "      <td>101.0</td>\n",
              "      <td>157.0</td>\n",
              "      <td>93.2</td>\n",
              "      <td>38.0</td>\n",
              "      <td>4.0</td>\n",
              "      <td>4.8598</td>\n",
              "      <td>87.0</td>\n",
              "      <td>151.0</td>\n",
              "    </tr>\n",
              "    <tr>\n",
              "      <th>1</th>\n",
              "      <td>48.0</td>\n",
              "      <td>1.0</td>\n",
              "      <td>21.6</td>\n",
              "      <td>87.0</td>\n",
              "      <td>183.0</td>\n",
              "      <td>103.2</td>\n",
              "      <td>70.0</td>\n",
              "      <td>3.0</td>\n",
              "      <td>3.8918</td>\n",
              "      <td>69.0</td>\n",
              "      <td>75.0</td>\n",
              "    </tr>\n",
              "    <tr>\n",
              "      <th>2</th>\n",
              "      <td>72.0</td>\n",
              "      <td>2.0</td>\n",
              "      <td>30.5</td>\n",
              "      <td>93.0</td>\n",
              "      <td>156.0</td>\n",
              "      <td>93.6</td>\n",
              "      <td>41.0</td>\n",
              "      <td>4.0</td>\n",
              "      <td>4.6728</td>\n",
              "      <td>85.0</td>\n",
              "      <td>141.0</td>\n",
              "    </tr>\n",
              "    <tr>\n",
              "      <th>3</th>\n",
              "      <td>24.0</td>\n",
              "      <td>1.0</td>\n",
              "      <td>25.3</td>\n",
              "      <td>84.0</td>\n",
              "      <td>198.0</td>\n",
              "      <td>131.4</td>\n",
              "      <td>40.0</td>\n",
              "      <td>5.0</td>\n",
              "      <td>4.8903</td>\n",
              "      <td>89.0</td>\n",
              "      <td>206.0</td>\n",
              "    </tr>\n",
              "    <tr>\n",
              "      <th>4</th>\n",
              "      <td>50.0</td>\n",
              "      <td>1.0</td>\n",
              "      <td>23.0</td>\n",
              "      <td>101.0</td>\n",
              "      <td>192.0</td>\n",
              "      <td>125.4</td>\n",
              "      <td>52.0</td>\n",
              "      <td>4.0</td>\n",
              "      <td>4.2905</td>\n",
              "      <td>80.0</td>\n",
              "      <td>135.0</td>\n",
              "    </tr>\n",
              "  </tbody>\n",
              "</table>\n",
              "</div>\n",
              "    <div class=\"colab-df-buttons\">\n",
              "\n",
              "  <div class=\"colab-df-container\">\n",
              "    <button class=\"colab-df-convert\" onclick=\"convertToInteractive('df-49b7d32c-2600-4d0a-91fc-b2a634272203')\"\n",
              "            title=\"Convert this dataframe to an interactive table.\"\n",
              "            style=\"display:none;\">\n",
              "\n",
              "  <svg xmlns=\"http://www.w3.org/2000/svg\" height=\"24px\" viewBox=\"0 -960 960 960\">\n",
              "    <path d=\"M120-120v-720h720v720H120Zm60-500h600v-160H180v160Zm220 220h160v-160H400v160Zm0 220h160v-160H400v160ZM180-400h160v-160H180v160Zm440 0h160v-160H620v160ZM180-180h160v-160H180v160Zm440 0h160v-160H620v160Z\"/>\n",
              "  </svg>\n",
              "    </button>\n",
              "\n",
              "  <style>\n",
              "    .colab-df-container {\n",
              "      display:flex;\n",
              "      gap: 12px;\n",
              "    }\n",
              "\n",
              "    .colab-df-convert {\n",
              "      background-color: #E8F0FE;\n",
              "      border: none;\n",
              "      border-radius: 50%;\n",
              "      cursor: pointer;\n",
              "      display: none;\n",
              "      fill: #1967D2;\n",
              "      height: 32px;\n",
              "      padding: 0 0 0 0;\n",
              "      width: 32px;\n",
              "    }\n",
              "\n",
              "    .colab-df-convert:hover {\n",
              "      background-color: #E2EBFA;\n",
              "      box-shadow: 0px 1px 2px rgba(60, 64, 67, 0.3), 0px 1px 3px 1px rgba(60, 64, 67, 0.15);\n",
              "      fill: #174EA6;\n",
              "    }\n",
              "\n",
              "    .colab-df-buttons div {\n",
              "      margin-bottom: 4px;\n",
              "    }\n",
              "\n",
              "    [theme=dark] .colab-df-convert {\n",
              "      background-color: #3B4455;\n",
              "      fill: #D2E3FC;\n",
              "    }\n",
              "\n",
              "    [theme=dark] .colab-df-convert:hover {\n",
              "      background-color: #434B5C;\n",
              "      box-shadow: 0px 1px 3px 1px rgba(0, 0, 0, 0.15);\n",
              "      filter: drop-shadow(0px 1px 2px rgba(0, 0, 0, 0.3));\n",
              "      fill: #FFFFFF;\n",
              "    }\n",
              "  </style>\n",
              "\n",
              "    <script>\n",
              "      const buttonEl =\n",
              "        document.querySelector('#df-49b7d32c-2600-4d0a-91fc-b2a634272203 button.colab-df-convert');\n",
              "      buttonEl.style.display =\n",
              "        google.colab.kernel.accessAllowed ? 'block' : 'none';\n",
              "\n",
              "      async function convertToInteractive(key) {\n",
              "        const element = document.querySelector('#df-49b7d32c-2600-4d0a-91fc-b2a634272203');\n",
              "        const dataTable =\n",
              "          await google.colab.kernel.invokeFunction('convertToInteractive',\n",
              "                                                    [key], {});\n",
              "        if (!dataTable) return;\n",
              "\n",
              "        const docLinkHtml = 'Like what you see? Visit the ' +\n",
              "          '<a target=\"_blank\" href=https://colab.research.google.com/notebooks/data_table.ipynb>data table notebook</a>'\n",
              "          + ' to learn more about interactive tables.';\n",
              "        element.innerHTML = '';\n",
              "        dataTable['output_type'] = 'display_data';\n",
              "        await google.colab.output.renderOutput(dataTable, element);\n",
              "        const docLink = document.createElement('div');\n",
              "        docLink.innerHTML = docLinkHtml;\n",
              "        element.appendChild(docLink);\n",
              "      }\n",
              "    </script>\n",
              "  </div>\n",
              "\n",
              "\n",
              "<div id=\"df-f7604b43-6a6b-4cd9-8200-0fd2ee1c99d3\">\n",
              "  <button class=\"colab-df-quickchart\" onclick=\"quickchart('df-f7604b43-6a6b-4cd9-8200-0fd2ee1c99d3')\"\n",
              "            title=\"Suggest charts.\"\n",
              "            style=\"display:none;\">\n",
              "\n",
              "<svg xmlns=\"http://www.w3.org/2000/svg\" height=\"24px\"viewBox=\"0 0 24 24\"\n",
              "     width=\"24px\">\n",
              "    <g>\n",
              "        <path d=\"M19 3H5c-1.1 0-2 .9-2 2v14c0 1.1.9 2 2 2h14c1.1 0 2-.9 2-2V5c0-1.1-.9-2-2-2zM9 17H7v-7h2v7zm4 0h-2V7h2v10zm4 0h-2v-4h2v4z\"/>\n",
              "    </g>\n",
              "</svg>\n",
              "  </button>\n",
              "\n",
              "<style>\n",
              "  .colab-df-quickchart {\n",
              "      --bg-color: #E8F0FE;\n",
              "      --fill-color: #1967D2;\n",
              "      --hover-bg-color: #E2EBFA;\n",
              "      --hover-fill-color: #174EA6;\n",
              "      --disabled-fill-color: #AAA;\n",
              "      --disabled-bg-color: #DDD;\n",
              "  }\n",
              "\n",
              "  [theme=dark] .colab-df-quickchart {\n",
              "      --bg-color: #3B4455;\n",
              "      --fill-color: #D2E3FC;\n",
              "      --hover-bg-color: #434B5C;\n",
              "      --hover-fill-color: #FFFFFF;\n",
              "      --disabled-bg-color: #3B4455;\n",
              "      --disabled-fill-color: #666;\n",
              "  }\n",
              "\n",
              "  .colab-df-quickchart {\n",
              "    background-color: var(--bg-color);\n",
              "    border: none;\n",
              "    border-radius: 50%;\n",
              "    cursor: pointer;\n",
              "    display: none;\n",
              "    fill: var(--fill-color);\n",
              "    height: 32px;\n",
              "    padding: 0;\n",
              "    width: 32px;\n",
              "  }\n",
              "\n",
              "  .colab-df-quickchart:hover {\n",
              "    background-color: var(--hover-bg-color);\n",
              "    box-shadow: 0 1px 2px rgba(60, 64, 67, 0.3), 0 1px 3px 1px rgba(60, 64, 67, 0.15);\n",
              "    fill: var(--button-hover-fill-color);\n",
              "  }\n",
              "\n",
              "  .colab-df-quickchart-complete:disabled,\n",
              "  .colab-df-quickchart-complete:disabled:hover {\n",
              "    background-color: var(--disabled-bg-color);\n",
              "    fill: var(--disabled-fill-color);\n",
              "    box-shadow: none;\n",
              "  }\n",
              "\n",
              "  .colab-df-spinner {\n",
              "    border: 2px solid var(--fill-color);\n",
              "    border-color: transparent;\n",
              "    border-bottom-color: var(--fill-color);\n",
              "    animation:\n",
              "      spin 1s steps(1) infinite;\n",
              "  }\n",
              "\n",
              "  @keyframes spin {\n",
              "    0% {\n",
              "      border-color: transparent;\n",
              "      border-bottom-color: var(--fill-color);\n",
              "      border-left-color: var(--fill-color);\n",
              "    }\n",
              "    20% {\n",
              "      border-color: transparent;\n",
              "      border-left-color: var(--fill-color);\n",
              "      border-top-color: var(--fill-color);\n",
              "    }\n",
              "    30% {\n",
              "      border-color: transparent;\n",
              "      border-left-color: var(--fill-color);\n",
              "      border-top-color: var(--fill-color);\n",
              "      border-right-color: var(--fill-color);\n",
              "    }\n",
              "    40% {\n",
              "      border-color: transparent;\n",
              "      border-right-color: var(--fill-color);\n",
              "      border-top-color: var(--fill-color);\n",
              "    }\n",
              "    60% {\n",
              "      border-color: transparent;\n",
              "      border-right-color: var(--fill-color);\n",
              "    }\n",
              "    80% {\n",
              "      border-color: transparent;\n",
              "      border-right-color: var(--fill-color);\n",
              "      border-bottom-color: var(--fill-color);\n",
              "    }\n",
              "    90% {\n",
              "      border-color: transparent;\n",
              "      border-bottom-color: var(--fill-color);\n",
              "    }\n",
              "  }\n",
              "</style>\n",
              "\n",
              "  <script>\n",
              "    async function quickchart(key) {\n",
              "      const quickchartButtonEl =\n",
              "        document.querySelector('#' + key + ' button');\n",
              "      quickchartButtonEl.disabled = true;  // To prevent multiple clicks.\n",
              "      quickchartButtonEl.classList.add('colab-df-spinner');\n",
              "      try {\n",
              "        const charts = await google.colab.kernel.invokeFunction(\n",
              "            'suggestCharts', [key], {});\n",
              "      } catch (error) {\n",
              "        console.error('Error during call to suggestCharts:', error);\n",
              "      }\n",
              "      quickchartButtonEl.classList.remove('colab-df-spinner');\n",
              "      quickchartButtonEl.classList.add('colab-df-quickchart-complete');\n",
              "    }\n",
              "    (() => {\n",
              "      let quickchartButtonEl =\n",
              "        document.querySelector('#df-f7604b43-6a6b-4cd9-8200-0fd2ee1c99d3 button');\n",
              "      quickchartButtonEl.style.display =\n",
              "        google.colab.kernel.accessAllowed ? 'block' : 'none';\n",
              "    })();\n",
              "  </script>\n",
              "</div>\n",
              "    </div>\n",
              "  </div>\n"
            ]
          },
          "metadata": {},
          "execution_count": 1093
        }
      ],
      "source": [
        "df.head()"
      ]
    },
    {
      "cell_type": "code",
      "execution_count": 1094,
      "metadata": {
        "id": "Hck2icFVBTRm",
        "outputId": "d40882ec-2d92-4d2f-d851-88da91e1b1f1",
        "colab": {
          "base_uri": "https://localhost:8080/"
        }
      },
      "outputs": [
        {
          "output_type": "stream",
          "name": "stdout",
          "text": [
            "<class 'pandas.core.frame.DataFrame'>\n",
            "RangeIndex: 442 entries, 0 to 441\n",
            "Data columns (total 11 columns):\n",
            " #   Column  Non-Null Count  Dtype  \n",
            "---  ------  --------------  -----  \n",
            " 0   age     442 non-null    float64\n",
            " 1   sex     442 non-null    float64\n",
            " 2   bmi     442 non-null    float64\n",
            " 3   bp      442 non-null    float64\n",
            " 4   s1      442 non-null    float64\n",
            " 5   s2      442 non-null    float64\n",
            " 6   s3      442 non-null    float64\n",
            " 7   s4      442 non-null    float64\n",
            " 8   s5      442 non-null    float64\n",
            " 9   s6      442 non-null    float64\n",
            " 10  target  442 non-null    float64\n",
            "dtypes: float64(11)\n",
            "memory usage: 38.1 KB\n"
          ]
        }
      ],
      "source": [
        "df.info()"
      ]
    },
    {
      "cell_type": "markdown",
      "metadata": {
        "id": "-tGXZzFaBTRm"
      },
      "source": [
        "1. Display the correlation of all features in the dataset using the `.corr()` function. `(5 points)`"
      ]
    },
    {
      "cell_type": "code",
      "execution_count": 1095,
      "metadata": {
        "id": "unCOZiXFBTRn",
        "colab": {
          "base_uri": "https://localhost:8080/",
          "height": 394
        },
        "outputId": "9a0cc0e5-80f0-40b8-8314-1c5a9a0e4dea"
      },
      "outputs": [
        {
          "output_type": "execute_result",
          "data": {
            "text/plain": [
              "             age       sex       bmi        bp        s1        s2        s3  \\\n",
              "age     1.000000  0.173737  0.185085  0.335428  0.260061  0.219243 -0.075181   \n",
              "sex     0.173737  1.000000  0.088161  0.241010  0.035277  0.142637 -0.379090   \n",
              "bmi     0.185085  0.088161  1.000000  0.395411  0.249777  0.261170 -0.366811   \n",
              "bp      0.335428  0.241010  0.395411  1.000000  0.242464  0.185548 -0.178762   \n",
              "s1      0.260061  0.035277  0.249777  0.242464  1.000000  0.896663  0.051519   \n",
              "s2      0.219243  0.142637  0.261170  0.185548  0.896663  1.000000 -0.196455   \n",
              "s3     -0.075181 -0.379090 -0.366811 -0.178762  0.051519 -0.196455  1.000000   \n",
              "s4      0.203841  0.332115  0.413807  0.257650  0.542207  0.659817 -0.738493   \n",
              "s5      0.270774  0.149916  0.446157  0.393480  0.515503  0.318357 -0.398577   \n",
              "s6      0.301731  0.208133  0.388680  0.390430  0.325717  0.290600 -0.273697   \n",
              "target  0.187889  0.043062  0.586450  0.441482  0.212022  0.174054 -0.394789   \n",
              "\n",
              "              s4        s5        s6    target  \n",
              "age     0.203841  0.270774  0.301731  0.187889  \n",
              "sex     0.332115  0.149916  0.208133  0.043062  \n",
              "bmi     0.413807  0.446157  0.388680  0.586450  \n",
              "bp      0.257650  0.393480  0.390430  0.441482  \n",
              "s1      0.542207  0.515503  0.325717  0.212022  \n",
              "s2      0.659817  0.318357  0.290600  0.174054  \n",
              "s3     -0.738493 -0.398577 -0.273697 -0.394789  \n",
              "s4      1.000000  0.617859  0.417212  0.430453  \n",
              "s5      0.617859  1.000000  0.464669  0.565883  \n",
              "s6      0.417212  0.464669  1.000000  0.382483  \n",
              "target  0.430453  0.565883  0.382483  1.000000  "
            ],
            "text/html": [
              "\n",
              "  <div id=\"df-ae8b502b-7356-449d-8c12-7024b8067d2f\" class=\"colab-df-container\">\n",
              "    <div>\n",
              "<style scoped>\n",
              "    .dataframe tbody tr th:only-of-type {\n",
              "        vertical-align: middle;\n",
              "    }\n",
              "\n",
              "    .dataframe tbody tr th {\n",
              "        vertical-align: top;\n",
              "    }\n",
              "\n",
              "    .dataframe thead th {\n",
              "        text-align: right;\n",
              "    }\n",
              "</style>\n",
              "<table border=\"1\" class=\"dataframe\">\n",
              "  <thead>\n",
              "    <tr style=\"text-align: right;\">\n",
              "      <th></th>\n",
              "      <th>age</th>\n",
              "      <th>sex</th>\n",
              "      <th>bmi</th>\n",
              "      <th>bp</th>\n",
              "      <th>s1</th>\n",
              "      <th>s2</th>\n",
              "      <th>s3</th>\n",
              "      <th>s4</th>\n",
              "      <th>s5</th>\n",
              "      <th>s6</th>\n",
              "      <th>target</th>\n",
              "    </tr>\n",
              "  </thead>\n",
              "  <tbody>\n",
              "    <tr>\n",
              "      <th>age</th>\n",
              "      <td>1.000000</td>\n",
              "      <td>0.173737</td>\n",
              "      <td>0.185085</td>\n",
              "      <td>0.335428</td>\n",
              "      <td>0.260061</td>\n",
              "      <td>0.219243</td>\n",
              "      <td>-0.075181</td>\n",
              "      <td>0.203841</td>\n",
              "      <td>0.270774</td>\n",
              "      <td>0.301731</td>\n",
              "      <td>0.187889</td>\n",
              "    </tr>\n",
              "    <tr>\n",
              "      <th>sex</th>\n",
              "      <td>0.173737</td>\n",
              "      <td>1.000000</td>\n",
              "      <td>0.088161</td>\n",
              "      <td>0.241010</td>\n",
              "      <td>0.035277</td>\n",
              "      <td>0.142637</td>\n",
              "      <td>-0.379090</td>\n",
              "      <td>0.332115</td>\n",
              "      <td>0.149916</td>\n",
              "      <td>0.208133</td>\n",
              "      <td>0.043062</td>\n",
              "    </tr>\n",
              "    <tr>\n",
              "      <th>bmi</th>\n",
              "      <td>0.185085</td>\n",
              "      <td>0.088161</td>\n",
              "      <td>1.000000</td>\n",
              "      <td>0.395411</td>\n",
              "      <td>0.249777</td>\n",
              "      <td>0.261170</td>\n",
              "      <td>-0.366811</td>\n",
              "      <td>0.413807</td>\n",
              "      <td>0.446157</td>\n",
              "      <td>0.388680</td>\n",
              "      <td>0.586450</td>\n",
              "    </tr>\n",
              "    <tr>\n",
              "      <th>bp</th>\n",
              "      <td>0.335428</td>\n",
              "      <td>0.241010</td>\n",
              "      <td>0.395411</td>\n",
              "      <td>1.000000</td>\n",
              "      <td>0.242464</td>\n",
              "      <td>0.185548</td>\n",
              "      <td>-0.178762</td>\n",
              "      <td>0.257650</td>\n",
              "      <td>0.393480</td>\n",
              "      <td>0.390430</td>\n",
              "      <td>0.441482</td>\n",
              "    </tr>\n",
              "    <tr>\n",
              "      <th>s1</th>\n",
              "      <td>0.260061</td>\n",
              "      <td>0.035277</td>\n",
              "      <td>0.249777</td>\n",
              "      <td>0.242464</td>\n",
              "      <td>1.000000</td>\n",
              "      <td>0.896663</td>\n",
              "      <td>0.051519</td>\n",
              "      <td>0.542207</td>\n",
              "      <td>0.515503</td>\n",
              "      <td>0.325717</td>\n",
              "      <td>0.212022</td>\n",
              "    </tr>\n",
              "    <tr>\n",
              "      <th>s2</th>\n",
              "      <td>0.219243</td>\n",
              "      <td>0.142637</td>\n",
              "      <td>0.261170</td>\n",
              "      <td>0.185548</td>\n",
              "      <td>0.896663</td>\n",
              "      <td>1.000000</td>\n",
              "      <td>-0.196455</td>\n",
              "      <td>0.659817</td>\n",
              "      <td>0.318357</td>\n",
              "      <td>0.290600</td>\n",
              "      <td>0.174054</td>\n",
              "    </tr>\n",
              "    <tr>\n",
              "      <th>s3</th>\n",
              "      <td>-0.075181</td>\n",
              "      <td>-0.379090</td>\n",
              "      <td>-0.366811</td>\n",
              "      <td>-0.178762</td>\n",
              "      <td>0.051519</td>\n",
              "      <td>-0.196455</td>\n",
              "      <td>1.000000</td>\n",
              "      <td>-0.738493</td>\n",
              "      <td>-0.398577</td>\n",
              "      <td>-0.273697</td>\n",
              "      <td>-0.394789</td>\n",
              "    </tr>\n",
              "    <tr>\n",
              "      <th>s4</th>\n",
              "      <td>0.203841</td>\n",
              "      <td>0.332115</td>\n",
              "      <td>0.413807</td>\n",
              "      <td>0.257650</td>\n",
              "      <td>0.542207</td>\n",
              "      <td>0.659817</td>\n",
              "      <td>-0.738493</td>\n",
              "      <td>1.000000</td>\n",
              "      <td>0.617859</td>\n",
              "      <td>0.417212</td>\n",
              "      <td>0.430453</td>\n",
              "    </tr>\n",
              "    <tr>\n",
              "      <th>s5</th>\n",
              "      <td>0.270774</td>\n",
              "      <td>0.149916</td>\n",
              "      <td>0.446157</td>\n",
              "      <td>0.393480</td>\n",
              "      <td>0.515503</td>\n",
              "      <td>0.318357</td>\n",
              "      <td>-0.398577</td>\n",
              "      <td>0.617859</td>\n",
              "      <td>1.000000</td>\n",
              "      <td>0.464669</td>\n",
              "      <td>0.565883</td>\n",
              "    </tr>\n",
              "    <tr>\n",
              "      <th>s6</th>\n",
              "      <td>0.301731</td>\n",
              "      <td>0.208133</td>\n",
              "      <td>0.388680</td>\n",
              "      <td>0.390430</td>\n",
              "      <td>0.325717</td>\n",
              "      <td>0.290600</td>\n",
              "      <td>-0.273697</td>\n",
              "      <td>0.417212</td>\n",
              "      <td>0.464669</td>\n",
              "      <td>1.000000</td>\n",
              "      <td>0.382483</td>\n",
              "    </tr>\n",
              "    <tr>\n",
              "      <th>target</th>\n",
              "      <td>0.187889</td>\n",
              "      <td>0.043062</td>\n",
              "      <td>0.586450</td>\n",
              "      <td>0.441482</td>\n",
              "      <td>0.212022</td>\n",
              "      <td>0.174054</td>\n",
              "      <td>-0.394789</td>\n",
              "      <td>0.430453</td>\n",
              "      <td>0.565883</td>\n",
              "      <td>0.382483</td>\n",
              "      <td>1.000000</td>\n",
              "    </tr>\n",
              "  </tbody>\n",
              "</table>\n",
              "</div>\n",
              "    <div class=\"colab-df-buttons\">\n",
              "\n",
              "  <div class=\"colab-df-container\">\n",
              "    <button class=\"colab-df-convert\" onclick=\"convertToInteractive('df-ae8b502b-7356-449d-8c12-7024b8067d2f')\"\n",
              "            title=\"Convert this dataframe to an interactive table.\"\n",
              "            style=\"display:none;\">\n",
              "\n",
              "  <svg xmlns=\"http://www.w3.org/2000/svg\" height=\"24px\" viewBox=\"0 -960 960 960\">\n",
              "    <path d=\"M120-120v-720h720v720H120Zm60-500h600v-160H180v160Zm220 220h160v-160H400v160Zm0 220h160v-160H400v160ZM180-400h160v-160H180v160Zm440 0h160v-160H620v160ZM180-180h160v-160H180v160Zm440 0h160v-160H620v160Z\"/>\n",
              "  </svg>\n",
              "    </button>\n",
              "\n",
              "  <style>\n",
              "    .colab-df-container {\n",
              "      display:flex;\n",
              "      gap: 12px;\n",
              "    }\n",
              "\n",
              "    .colab-df-convert {\n",
              "      background-color: #E8F0FE;\n",
              "      border: none;\n",
              "      border-radius: 50%;\n",
              "      cursor: pointer;\n",
              "      display: none;\n",
              "      fill: #1967D2;\n",
              "      height: 32px;\n",
              "      padding: 0 0 0 0;\n",
              "      width: 32px;\n",
              "    }\n",
              "\n",
              "    .colab-df-convert:hover {\n",
              "      background-color: #E2EBFA;\n",
              "      box-shadow: 0px 1px 2px rgba(60, 64, 67, 0.3), 0px 1px 3px 1px rgba(60, 64, 67, 0.15);\n",
              "      fill: #174EA6;\n",
              "    }\n",
              "\n",
              "    .colab-df-buttons div {\n",
              "      margin-bottom: 4px;\n",
              "    }\n",
              "\n",
              "    [theme=dark] .colab-df-convert {\n",
              "      background-color: #3B4455;\n",
              "      fill: #D2E3FC;\n",
              "    }\n",
              "\n",
              "    [theme=dark] .colab-df-convert:hover {\n",
              "      background-color: #434B5C;\n",
              "      box-shadow: 0px 1px 3px 1px rgba(0, 0, 0, 0.15);\n",
              "      filter: drop-shadow(0px 1px 2px rgba(0, 0, 0, 0.3));\n",
              "      fill: #FFFFFF;\n",
              "    }\n",
              "  </style>\n",
              "\n",
              "    <script>\n",
              "      const buttonEl =\n",
              "        document.querySelector('#df-ae8b502b-7356-449d-8c12-7024b8067d2f button.colab-df-convert');\n",
              "      buttonEl.style.display =\n",
              "        google.colab.kernel.accessAllowed ? 'block' : 'none';\n",
              "\n",
              "      async function convertToInteractive(key) {\n",
              "        const element = document.querySelector('#df-ae8b502b-7356-449d-8c12-7024b8067d2f');\n",
              "        const dataTable =\n",
              "          await google.colab.kernel.invokeFunction('convertToInteractive',\n",
              "                                                    [key], {});\n",
              "        if (!dataTable) return;\n",
              "\n",
              "        const docLinkHtml = 'Like what you see? Visit the ' +\n",
              "          '<a target=\"_blank\" href=https://colab.research.google.com/notebooks/data_table.ipynb>data table notebook</a>'\n",
              "          + ' to learn more about interactive tables.';\n",
              "        element.innerHTML = '';\n",
              "        dataTable['output_type'] = 'display_data';\n",
              "        await google.colab.output.renderOutput(dataTable, element);\n",
              "        const docLink = document.createElement('div');\n",
              "        docLink.innerHTML = docLinkHtml;\n",
              "        element.appendChild(docLink);\n",
              "      }\n",
              "    </script>\n",
              "  </div>\n",
              "\n",
              "\n",
              "<div id=\"df-39e688dd-920f-4e0b-8f1f-c15a2b15c8c1\">\n",
              "  <button class=\"colab-df-quickchart\" onclick=\"quickchart('df-39e688dd-920f-4e0b-8f1f-c15a2b15c8c1')\"\n",
              "            title=\"Suggest charts.\"\n",
              "            style=\"display:none;\">\n",
              "\n",
              "<svg xmlns=\"http://www.w3.org/2000/svg\" height=\"24px\"viewBox=\"0 0 24 24\"\n",
              "     width=\"24px\">\n",
              "    <g>\n",
              "        <path d=\"M19 3H5c-1.1 0-2 .9-2 2v14c0 1.1.9 2 2 2h14c1.1 0 2-.9 2-2V5c0-1.1-.9-2-2-2zM9 17H7v-7h2v7zm4 0h-2V7h2v10zm4 0h-2v-4h2v4z\"/>\n",
              "    </g>\n",
              "</svg>\n",
              "  </button>\n",
              "\n",
              "<style>\n",
              "  .colab-df-quickchart {\n",
              "      --bg-color: #E8F0FE;\n",
              "      --fill-color: #1967D2;\n",
              "      --hover-bg-color: #E2EBFA;\n",
              "      --hover-fill-color: #174EA6;\n",
              "      --disabled-fill-color: #AAA;\n",
              "      --disabled-bg-color: #DDD;\n",
              "  }\n",
              "\n",
              "  [theme=dark] .colab-df-quickchart {\n",
              "      --bg-color: #3B4455;\n",
              "      --fill-color: #D2E3FC;\n",
              "      --hover-bg-color: #434B5C;\n",
              "      --hover-fill-color: #FFFFFF;\n",
              "      --disabled-bg-color: #3B4455;\n",
              "      --disabled-fill-color: #666;\n",
              "  }\n",
              "\n",
              "  .colab-df-quickchart {\n",
              "    background-color: var(--bg-color);\n",
              "    border: none;\n",
              "    border-radius: 50%;\n",
              "    cursor: pointer;\n",
              "    display: none;\n",
              "    fill: var(--fill-color);\n",
              "    height: 32px;\n",
              "    padding: 0;\n",
              "    width: 32px;\n",
              "  }\n",
              "\n",
              "  .colab-df-quickchart:hover {\n",
              "    background-color: var(--hover-bg-color);\n",
              "    box-shadow: 0 1px 2px rgba(60, 64, 67, 0.3), 0 1px 3px 1px rgba(60, 64, 67, 0.15);\n",
              "    fill: var(--button-hover-fill-color);\n",
              "  }\n",
              "\n",
              "  .colab-df-quickchart-complete:disabled,\n",
              "  .colab-df-quickchart-complete:disabled:hover {\n",
              "    background-color: var(--disabled-bg-color);\n",
              "    fill: var(--disabled-fill-color);\n",
              "    box-shadow: none;\n",
              "  }\n",
              "\n",
              "  .colab-df-spinner {\n",
              "    border: 2px solid var(--fill-color);\n",
              "    border-color: transparent;\n",
              "    border-bottom-color: var(--fill-color);\n",
              "    animation:\n",
              "      spin 1s steps(1) infinite;\n",
              "  }\n",
              "\n",
              "  @keyframes spin {\n",
              "    0% {\n",
              "      border-color: transparent;\n",
              "      border-bottom-color: var(--fill-color);\n",
              "      border-left-color: var(--fill-color);\n",
              "    }\n",
              "    20% {\n",
              "      border-color: transparent;\n",
              "      border-left-color: var(--fill-color);\n",
              "      border-top-color: var(--fill-color);\n",
              "    }\n",
              "    30% {\n",
              "      border-color: transparent;\n",
              "      border-left-color: var(--fill-color);\n",
              "      border-top-color: var(--fill-color);\n",
              "      border-right-color: var(--fill-color);\n",
              "    }\n",
              "    40% {\n",
              "      border-color: transparent;\n",
              "      border-right-color: var(--fill-color);\n",
              "      border-top-color: var(--fill-color);\n",
              "    }\n",
              "    60% {\n",
              "      border-color: transparent;\n",
              "      border-right-color: var(--fill-color);\n",
              "    }\n",
              "    80% {\n",
              "      border-color: transparent;\n",
              "      border-right-color: var(--fill-color);\n",
              "      border-bottom-color: var(--fill-color);\n",
              "    }\n",
              "    90% {\n",
              "      border-color: transparent;\n",
              "      border-bottom-color: var(--fill-color);\n",
              "    }\n",
              "  }\n",
              "</style>\n",
              "\n",
              "  <script>\n",
              "    async function quickchart(key) {\n",
              "      const quickchartButtonEl =\n",
              "        document.querySelector('#' + key + ' button');\n",
              "      quickchartButtonEl.disabled = true;  // To prevent multiple clicks.\n",
              "      quickchartButtonEl.classList.add('colab-df-spinner');\n",
              "      try {\n",
              "        const charts = await google.colab.kernel.invokeFunction(\n",
              "            'suggestCharts', [key], {});\n",
              "      } catch (error) {\n",
              "        console.error('Error during call to suggestCharts:', error);\n",
              "      }\n",
              "      quickchartButtonEl.classList.remove('colab-df-spinner');\n",
              "      quickchartButtonEl.classList.add('colab-df-quickchart-complete');\n",
              "    }\n",
              "    (() => {\n",
              "      let quickchartButtonEl =\n",
              "        document.querySelector('#df-39e688dd-920f-4e0b-8f1f-c15a2b15c8c1 button');\n",
              "      quickchartButtonEl.style.display =\n",
              "        google.colab.kernel.accessAllowed ? 'block' : 'none';\n",
              "    })();\n",
              "  </script>\n",
              "</div>\n",
              "    </div>\n",
              "  </div>\n"
            ]
          },
          "metadata": {},
          "execution_count": 1095
        }
      ],
      "source": [
        "correlation = df.corr()\n",
        "correlation"
      ]
    },
    {
      "cell_type": "markdown",
      "metadata": {
        "id": "kAnJMwAdBTRn"
      },
      "source": [
        "2. Using `sns.heatmap()`, draw a heatmap of the correlation of all features of the dataset. `(5 points)`\n",
        "\n",
        " - Set the `annot` parameter to **True**"
      ]
    },
    {
      "cell_type": "code",
      "execution_count": 1096,
      "metadata": {
        "id": "w_wK6LCPBTRn",
        "outputId": "bbe832e2-acbf-4355-d94e-a057d53fd4ca",
        "colab": {
          "base_uri": "https://localhost:8080/",
          "height": 1000
        }
      },
      "outputs": [
        {
          "output_type": "execute_result",
          "data": {
            "text/plain": [
              "<Axes: >"
            ]
          },
          "metadata": {},
          "execution_count": 1096
        },
        {
          "output_type": "display_data",
          "data": {
            "text/plain": [
              "<Figure size 1500x1500 with 2 Axes>"
            ],
            "image/png": "[encoded data removed]"
          },
          "metadata": {}
        }
      ],
      "source": [
        "plt.figure(figsize=(15, 15))\n",
        "\n",
        "sns.heatmap(correlation, annot=True, linewidths=0.5)\n"
      ]
    },
    {
      "cell_type": "markdown",
      "metadata": {
        "id": "oFbycLk7BTRn"
      },
      "source": [
        "3. Split the data set into a training and test set. `(5 points)`"
      ]
    },
    {
      "cell_type": "code",
      "execution_count": 1097,
      "metadata": {
        "id": "GrpJCiuiBTRn"
      },
      "outputs": [],
      "source": [
        "X = df[['bmi', 'bp','s4', 's5', 's6']]\n",
        "y = df['target']\n",
        "X_train,X_test,y_train,y_test = train_test_split(X,y,test_size=0.3,random_state=110)"
      ]
    },
    {
      "cell_type": "markdown",
      "metadata": {
        "id": "WeqTd8AiBTRn"
      },
      "source": [
        "4. Use the `the MinMaxScaler()` method to scale down the training and test set. `(5 points)`"
      ]
    },
    {
      "cell_type": "code",
      "execution_count": 1098,
      "metadata": {
        "id": "xekIbG7EBTRn"
      },
      "outputs": [],
      "source": [
        "scaler = MinMaxScaler()\n",
        "scaler.fit(X_train)\n",
        "X_train_scaled = scaler.transform(X_train)\n",
        "X_test_scaled = scaler.transform(X_test)"
      ]
    },
    {
      "cell_type": "markdown",
      "metadata": {
        "id": "HiJjAVVqBTRo"
      },
      "source": [
        "5. Create a new instance of the `LinearRegression` class. `(5 points)`"
      ]
    },
    {
      "cell_type": "code",
      "execution_count": 1099,
      "metadata": {
        "id": "OdJLMS0lBTRo"
      },
      "outputs": [],
      "source": [
        "model = LinearRegression()"
      ]
    },
    {
      "cell_type": "markdown",
      "metadata": {
        "id": "qRuj1WzJBTRo"
      },
      "source": [
        "6. Use the `fit()` method to train the linear regression model using the scaled training set. `(5 points)`"
      ]
    },
    {
      "cell_type": "code",
      "execution_count": 1100,
      "metadata": {
        "id": "c9WSjNVpBTRo",
        "colab": {
          "base_uri": "https://localhost:8080/",
          "height": 74
        },
        "outputId": "dce14c67-d415-424c-ce54-f2dc80f9e8c9"
      },
      "outputs": [
        {
          "output_type": "execute_result",
          "data": {
            "text/plain": [
              "LinearRegression()"
            ],
            "text/html": [
              "<style>#sk-container-id-81 {color: black;background-color: white;}#sk-container-id-81 pre{padding: 0;}#sk-container-id-81 div.sk-toggleable {background-color: white;}#sk-container-id-81 label.sk-toggleable__label {cursor: pointer;display: block;width: 100%;margin-bottom: 0;padding: 0.3em;box-sizing: border-box;text-align: center;}#sk-container-id-81 label.sk-toggleable__label-arrow:before {content: \"▸\";float: left;margin-right: 0.25em;color: #696969;}#sk-container-id-81 label.sk-toggleable__label-arrow:hover:before {color: black;}#sk-container-id-81 div.sk-estimator:hover label.sk-toggleable__label-arrow:before {color: black;}#sk-container-id-81 div.sk-toggleable__content {max-height: 0;max-width: 0;overflow: hidden;text-align: left;background-color: #f0f8ff;}#sk-container-id-81 div.sk-toggleable__content pre {margin: 0.2em;color: black;border-radius: 0.25em;background-color: #f0f8ff;}#sk-container-id-81 input.sk-toggleable__control:checked~div.sk-toggleable__content {max-height: 200px;max-width: 100%;overflow: auto;}#sk-container-id-81 input.sk-toggleable__control:checked~label.sk-toggleable__label-arrow:before {content: \"▾\";}#sk-container-id-81 div.sk-estimator input.sk-toggleable__control:checked~label.sk-toggleable__label {background-color: #d4ebff;}#sk-container-id-81 div.sk-label input.sk-toggleable__control:checked~label.sk-toggleable__label {background-color: #d4ebff;}#sk-container-id-81 input.sk-hidden--visually {border: 0;clip: rect(1px 1px 1px 1px);clip: rect(1px, 1px, 1px, 1px);height: 1px;margin: -1px;overflow: hidden;padding: 0;position: absolute;width: 1px;}#sk-container-id-81 div.sk-estimator {font-family: monospace;background-color: #f0f8ff;border: 1px dotted black;border-radius: 0.25em;box-sizing: border-box;margin-bottom: 0.5em;}#sk-container-id-81 div.sk-estimator:hover {background-color: #d4ebff;}#sk-container-id-81 div.sk-parallel-item::after {content: \"\";width: 100%;border-bottom: 1px solid gray;flex-grow: 1;}#sk-container-id-81 div.sk-label:hover label.sk-toggleable__label {background-color: #d4ebff;}#sk-container-id-81 div.sk-serial::before {content: \"\";position: absolute;border-left: 1px solid gray;box-sizing: border-box;top: 0;bottom: 0;left: 50%;z-index: 0;}#sk-container-id-81 div.sk-serial {display: flex;flex-direction: column;align-items: center;background-color: white;padding-right: 0.2em;padding-left: 0.2em;position: relative;}#sk-container-id-81 div.sk-item {position: relative;z-index: 1;}#sk-container-id-81 div.sk-parallel {display: flex;align-items: stretch;justify-content: center;background-color: white;position: relative;}#sk-container-id-81 div.sk-item::before, #sk-container-id-81 div.sk-parallel-item::before {content: \"\";position: absolute;border-left: 1px solid gray;box-sizing: border-box;top: 0;bottom: 0;left: 50%;z-index: -1;}#sk-container-id-81 div.sk-parallel-item {display: flex;flex-direction: column;z-index: 1;position: relative;background-color: white;}#sk-container-id-81 div.sk-parallel-item:first-child::after {align-self: flex-end;width: 50%;}#sk-container-id-81 div.sk-parallel-item:last-child::after {align-self: flex-start;width: 50%;}#sk-container-id-81 div.sk-parallel-item:only-child::after {width: 0;}#sk-container-id-81 div.sk-dashed-wrapped {border: 1px dashed gray;margin: 0 0.4em 0.5em 0.4em;box-sizing: border-box;padding-bottom: 0.4em;background-color: white;}#sk-container-id-81 div.sk-label label {font-family: monospace;font-weight: bold;display: inline-block;line-height: 1.2em;}#sk-container-id-81 div.sk-label-container {text-align: center;}#sk-container-id-81 div.sk-container {/* jupyter's `normalize.less` sets `[hidden] { display: none; }` but bootstrap.min.css set `[hidden] { display: none !important; }` so we also need the `!important` here to be able to override the default hidden behavior on the sphinx rendered scikit-learn.org. See: https://github.com/scikit-learn/scikit-learn/issues/21755 */display: inline-block !important;position: relative;}#sk-container-id-81 div.sk-text-repr-fallback {display: none;}</style><div id=\"sk-container-id-81\" class=\"sk-top-container\"><div class=\"sk-text-repr-fallback\"><pre>LinearRegression()</pre><b>In a Jupyter environment, please rerun this cell to show the HTML representation or trust the notebook. <br />On GitHub, the HTML representation is unable to render, please try loading this page with nbviewer.org.</b></div><div class=\"sk-container\" hidden><div class=\"sk-item\"><div class=\"sk-estimator sk-toggleable\"><input class=\"sk-toggleable__control sk-hidden--visually\" id=\"sk-estimator-id-81\" type=\"checkbox\" checked><label for=\"sk-estimator-id-81\" class=\"sk-toggleable__label sk-toggleable__label-arrow\">LinearRegression</label><div class=\"sk-toggleable__content\"><pre>LinearRegression()</pre></div></div></div></div></div>"
            ]
          },
          "metadata": {},
          "execution_count": 1100
        }
      ],
      "source": [
        "model.fit(X_train_scaled, y_train)"
      ]
    },
    {
      "cell_type": "markdown",
      "metadata": {
        "id": "d7t7gWHQBTRo"
      },
      "source": [
        "7. Use the `predict()` method to make predictions using the scaled test set. `(5 points)`"
      ]
    },
    {
      "cell_type": "code",
      "execution_count": 1101,
      "metadata": {
        "id": "nGqIgRDkBTRo"
      },
      "outputs": [],
      "source": [
        "y_predi = model.predict(X_test_scaled)"
      ]
    },
    {
      "cell_type": "markdown",
      "metadata": {
        "id": "y1rV0xi1BTRo"
      },
      "source": [
        "8. Display the intercept, slope and $R^2$. `(5 points)`"
      ]
    },
    {
      "cell_type": "code",
      "execution_count": 1102,
      "metadata": {
        "id": "6pDgtmtaBTRo",
        "colab": {
          "base_uri": "https://localhost:8080/"
        },
        "outputId": "cac9f6e6-050c-4b98-fb2b-d95a8c60105b"
      },
      "outputs": [
        {
          "output_type": "stream",
          "name": "stdout",
          "text": [
            "Mean Score: 2640.063988496879\n",
            "Intercept: 2.769000724076477\n",
            "Coefficients: [142.08388314  59.31232808  27.34046719 119.88319683  13.70358227]\n",
            "R2 Score: 0.5554117273195138\n"
          ]
        }
      ],
      "source": [
        "mse = mean_squared_error(y_test, y_predi)\n",
        "r2 = r2_score(y_test, y_predi)\n",
        "\n",
        "print(f'Mean Score: {mse}')\n",
        "print('Intercept:', model.intercept_)\n",
        "print('Coefficients:', model.coef_)\n",
        "print(f'R2 Score: {r2}')\n"
      ]
    },
    {
      "cell_type": "markdown",
      "metadata": {
        "id": "TTj4CYwHBTRo"
      },
      "source": [
        "9. Write a `normal_equation()` function that will return the intercept and coefficients/slopes. `(5 points)`"
      ]
    },
    {
      "cell_type": "code",
      "execution_count": 1103,
      "metadata": {
        "id": "AyQuhR02BTRo"
      },
      "outputs": [],
      "source": [
        "def lg_normal_equation(X,y):\n",
        "\n",
        "  ones = np.ones((X.shape[0], 1))\n",
        "  X = np.append(ones, X, axis=1)\n",
        "  result = np.dot(np.linalg.pinv(np.dot(X.T, X)), np.dot(X.T, y))\n",
        "  return result, result[0], result[1:]"
      ]
    },
    {
      "cell_type": "markdown",
      "metadata": {
        "id": "hDQZ6AZdBTRp"
      },
      "source": [
        "10. Call the `normal_equation()` function and pass the scaled training set. Display the intercept and slopes. `(5 points)`"
      ]
    },
    {
      "cell_type": "code",
      "execution_count": 1104,
      "metadata": {
        "id": "jcKOCJCoBTRp",
        "colab": {
          "base_uri": "https://localhost:8080/"
        },
        "outputId": "09dd8519-1890-434b-b62c-1d7226379b10"
      },
      "outputs": [
        {
          "output_type": "stream",
          "name": "stdout",
          "text": [
            "Result:  [-3.30694582e+02  6.30872193e+00  8.87901181e-01  2.51204901e+00\n",
            "  4.52730109e+01  1.31908855e-01]\n",
            "Intercept:  -330.6945824075301\n",
            "Slopes/Coefficients:  [ 6.30872193  0.88790118  2.51204901 45.27301091  0.13190885]\n"
          ]
        }
      ],
      "source": [
        "result, b, m = lg_normal_equation(X, y)\n",
        "\n",
        "print(\"Result: \", result)\n",
        "print(\"Intercept: \", b)\n",
        "print(\"Slopes/Coefficients: \", m)"
      ]
    }
  ],
  "metadata": {
    "kernelspec": {
      "display_name": "Python 3",
      "language": "python",
      "name": "python3"
    },
    "language_info": {
      "codemirror_mode": {
        "name": "ipython",
        "version": 3
      },
      "file_extension": ".py",
      "mimetype": "text/x-python",
      "name": "python",
      "nbconvert_exporter": "python",
      "pygments_lexer": "ipython3",
      "version": "3.9.13"
    },
    "orig_nbformat": 4,
    "colab": {
      "provenance": [],
      "include_colab_link": true
    }
  },
  "nbformat": 4,
  "nbformat_minor": 0
}